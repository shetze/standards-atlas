{
 "cells": [
  {
   "cell_type": "markdown",
   "id": "4be39481-8376-4005-a616-ba818e470098",
   "metadata": {},
   "source": [
    "## Self reflection"
   ]
  },
  {
   "cell_type": "markdown",
   "id": "7473956e-54d4-4124-8c9c-86ff4b7e5cca",
   "metadata": {},
   "source": [
    "### Document level"
   ]
  },
  {
   "cell_type": "code",
   "id": "e88d456c-9e92-4061-8de4-6895f75ca123",
   "metadata": {
    "ExecuteTime": {
     "end_time": "2025-02-21T11:32:51.460019Z",
     "start_time": "2025-02-21T11:32:49.970166Z"
    }
   },
   "source": [
    "import pandas as pd\n",
    "import numpy as np\n",
    "from click import password_option\n",
    "from sklearn.metrics.pairwise import cosine_similarity\n",
    "from tqdm import tqdm"
   ],
   "outputs": [],
   "execution_count": 1
  },
  {
   "metadata": {},
   "cell_type": "markdown",
   "source": [
    "### Data loading\n",
    "to perform the evaluation, the data needs to be in a dataframe with the following columns - Document, Clause Number, Clause Text.\n",
    "The data preparation notebook can help create the required dataframe. \n"
   ],
   "id": "c09d318a0437e01e"
  },
  {
   "cell_type": "code",
   "id": "d0c2d7ca-e978-4abe-a08f-e30946e2a41c",
   "metadata": {
    "ExecuteTime": {
     "end_time": "2025-02-21T11:32:52.384354Z",
     "start_time": "2025-02-21T11:32:52.380530Z"
    }
   },
   "source": "data_path = 'data/clauses_w_embeddings_e5_snowflake_minilm.csv'",
   "outputs": [],
   "execution_count": 3
  },
  {
   "metadata": {
    "ExecuteTime": {
     "end_time": "2025-02-21T11:32:52.397835Z",
     "start_time": "2025-02-21T11:32:52.392810Z"
    }
   },
   "cell_type": "code",
   "source": "embedding_models = [('intfloat/multilingual-e5-large', 'e5'), ('Snowflake/snowflake-arctic-embed-l-v2.0', 'snowflake'), ('sentence-transformers/all-MiniLM-L12-v2', 'minilm')]",
   "id": "814eb90277a408d2",
   "outputs": [],
   "execution_count": 4
  },
  {
   "cell_type": "code",
   "id": "3a8f59f4-5472-4135-90a6-0491ddba7e3c",
   "metadata": {
    "ExecuteTime": {
     "end_time": "2025-02-21T11:32:52.519758Z",
     "start_time": "2025-02-21T11:32:52.407536Z"
    }
   },
   "source": [
    "df = pd.read_csv(data_path)"
   ],
   "outputs": [],
   "execution_count": 5
  },
  {
   "cell_type": "code",
   "id": "44f0b331-3941-4f61-a348-faaf9a333f67",
   "metadata": {
    "ExecuteTime": {
     "end_time": "2025-02-21T11:32:52.539420Z",
     "start_time": "2025-02-21T11:32:52.532290Z"
    }
   },
   "source": [
    "df = df.loc[:, ~df.columns.str.contains('^Unnamed')]"
   ],
   "outputs": [],
   "execution_count": 6
  },
  {
   "cell_type": "code",
   "id": "4a9005e9-5584-473e-bf7e-7cf6c9b0a84f",
   "metadata": {
    "ExecuteTime": {
     "end_time": "2025-02-21T11:32:52.579457Z",
     "start_time": "2025-02-21T11:32:52.563840Z"
    }
   },
   "source": [
    "df.head()"
   ],
   "outputs": [
    {
     "data": {
      "text/plain": [
       "  Document Clause Number Clause Heading  \\\n",
       "0  EN50128             1          Scope   \n",
       "1  EN50128           1.1            NaN   \n",
       "2  EN50128           1.2            NaN   \n",
       "3  EN50128           1.3            NaN   \n",
       "4  EN50128           1.4            NaN   \n",
       "\n",
       "                                         Clause Text Human Heading Tag  \\\n",
       "0                                                NaN         scope   u   \n",
       "1  This European Standard specifies the process a...         scope   s   \n",
       "2  This European Standard is applicable exclusive...         scope   s   \n",
       "3  This European Standard is not relevant for sof...         scope   s   \n",
       "4  This European Standard applies to all safety r...         scope   s   \n",
       "\n",
       "   Clause Word Count    Embedding_intfloat/multilingual-e5-large_Clause  \\\n",
       "0                  0  [ 0.00821052 -0.01522331 -0.02773627 ... -0.02...   \n",
       "1                 61  [ 0.04056    -0.01077269 -0.05022712 ... -0.00...   \n",
       "2                 21  [ 0.03345993 -0.01828792 -0.02228408 ...  0.00...   \n",
       "3                 29  [ 0.02221433 -0.02572916 -0.04346513 ...  0.00...   \n",
       "4                 48  [ 0.03539522 -0.0190299  -0.04608537 ... -0.00...   \n",
       "\n",
       "    Embedding_intfloat/multilingual-e5-large_Heading  \\\n",
       "0  [-0.00119899  0.01662432 -0.0293218  ... -0.01...   \n",
       "1  [-0.00119899  0.01662432 -0.0293218  ... -0.01...   \n",
       "2  [-0.00119899  0.01662432 -0.0293218  ... -0.01...   \n",
       "3  [-0.00119899  0.01662432 -0.0293218  ... -0.01...   \n",
       "4  [-0.00119899  0.01662432 -0.0293218  ... -0.01...   \n",
       "\n",
       "  Embedding_Snowflake/snowflake-arctic-embed-l-v2.0_Clause  \\\n",
       "0  [ 0.00815988 -0.00112074  0.04439756 ...  0.01...         \n",
       "1  [-0.01203515 -0.0296172  -0.00068222 ... -0.02...         \n",
       "2  [ 0.01320493  0.00461948 -0.0300191  ... -0.00...         \n",
       "3  [-0.00918901 -0.00785633  0.00076057 ...  0.00...         \n",
       "4  [ 0.0064631   0.00557209 -0.00887293 ... -0.01...         \n",
       "\n",
       "  Embedding_Snowflake/snowflake-arctic-embed-l-v2.0_Heading  \\\n",
       "0  [ 0.02655863  0.00925995  0.00356737 ... -0.01...          \n",
       "1  [ 0.02655863  0.00925995  0.00356737 ... -0.01...          \n",
       "2  [ 0.02655863  0.00925995  0.00356737 ... -0.01...          \n",
       "3  [ 0.02655863  0.00925995  0.00356737 ... -0.01...          \n",
       "4  [ 0.02655863  0.00925995  0.00356737 ... -0.01...          \n",
       "\n",
       "  Embedding_sentence-transformers/all-MiniLM-L12-v2_Clause  \\\n",
       "0  [-5.61586581e-02  6.96524084e-02  3.27355750e-...         \n",
       "1  [-2.44193077e-02 -4.22520377e-02 -3.41697484e-...         \n",
       "2  [ 1.47426575e-02  7.25996643e-02  2.81576551e-...         \n",
       "3  [-3.87206674e-02  2.35516652e-02 -4.62539382e-...         \n",
       "4  [ 3.02667730e-02 -5.14729768e-02 -3.94287668e-...         \n",
       "\n",
       "  Embedding_sentence-transformers/all-MiniLM-L12-v2_Heading  \n",
       "0  [ 3.83796506e-02  5.48125803e-02 -5.89791983e-...         \n",
       "1  [ 3.83796506e-02  5.48125803e-02 -5.89791983e-...         \n",
       "2  [ 3.83796506e-02  5.48125803e-02 -5.89791983e-...         \n",
       "3  [ 3.83796506e-02  5.48125803e-02 -5.89791983e-...         \n",
       "4  [ 3.83796506e-02  5.48125803e-02 -5.89791983e-...         "
      ],
      "text/html": [
       "<div>\n",
       "<style scoped>\n",
       "    .dataframe tbody tr th:only-of-type {\n",
       "        vertical-align: middle;\n",
       "    }\n",
       "\n",
       "    .dataframe tbody tr th {\n",
       "        vertical-align: top;\n",
       "    }\n",
       "\n",
       "    .dataframe thead th {\n",
       "        text-align: right;\n",
       "    }\n",
       "</style>\n",
       "<table border=\"1\" class=\"dataframe\">\n",
       "  <thead>\n",
       "    <tr style=\"text-align: right;\">\n",
       "      <th></th>\n",
       "      <th>Document</th>\n",
       "      <th>Clause Number</th>\n",
       "      <th>Clause Heading</th>\n",
       "      <th>Clause Text</th>\n",
       "      <th>Human Heading</th>\n",
       "      <th>Tag</th>\n",
       "      <th>Clause Word Count</th>\n",
       "      <th>Embedding_intfloat/multilingual-e5-large_Clause</th>\n",
       "      <th>Embedding_intfloat/multilingual-e5-large_Heading</th>\n",
       "      <th>Embedding_Snowflake/snowflake-arctic-embed-l-v2.0_Clause</th>\n",
       "      <th>Embedding_Snowflake/snowflake-arctic-embed-l-v2.0_Heading</th>\n",
       "      <th>Embedding_sentence-transformers/all-MiniLM-L12-v2_Clause</th>\n",
       "      <th>Embedding_sentence-transformers/all-MiniLM-L12-v2_Heading</th>\n",
       "    </tr>\n",
       "  </thead>\n",
       "  <tbody>\n",
       "    <tr>\n",
       "      <th>0</th>\n",
       "      <td>EN50128</td>\n",
       "      <td>1</td>\n",
       "      <td>Scope</td>\n",
       "      <td>NaN</td>\n",
       "      <td>scope</td>\n",
       "      <td>u</td>\n",
       "      <td>0</td>\n",
       "      <td>[ 0.00821052 -0.01522331 -0.02773627 ... -0.02...</td>\n",
       "      <td>[-0.00119899  0.01662432 -0.0293218  ... -0.01...</td>\n",
       "      <td>[ 0.00815988 -0.00112074  0.04439756 ...  0.01...</td>\n",
       "      <td>[ 0.02655863  0.00925995  0.00356737 ... -0.01...</td>\n",
       "      <td>[-5.61586581e-02  6.96524084e-02  3.27355750e-...</td>\n",
       "      <td>[ 3.83796506e-02  5.48125803e-02 -5.89791983e-...</td>\n",
       "    </tr>\n",
       "    <tr>\n",
       "      <th>1</th>\n",
       "      <td>EN50128</td>\n",
       "      <td>1.1</td>\n",
       "      <td>NaN</td>\n",
       "      <td>This European Standard specifies the process a...</td>\n",
       "      <td>scope</td>\n",
       "      <td>s</td>\n",
       "      <td>61</td>\n",
       "      <td>[ 0.04056    -0.01077269 -0.05022712 ... -0.00...</td>\n",
       "      <td>[-0.00119899  0.01662432 -0.0293218  ... -0.01...</td>\n",
       "      <td>[-0.01203515 -0.0296172  -0.00068222 ... -0.02...</td>\n",
       "      <td>[ 0.02655863  0.00925995  0.00356737 ... -0.01...</td>\n",
       "      <td>[-2.44193077e-02 -4.22520377e-02 -3.41697484e-...</td>\n",
       "      <td>[ 3.83796506e-02  5.48125803e-02 -5.89791983e-...</td>\n",
       "    </tr>\n",
       "    <tr>\n",
       "      <th>2</th>\n",
       "      <td>EN50128</td>\n",
       "      <td>1.2</td>\n",
       "      <td>NaN</td>\n",
       "      <td>This European Standard is applicable exclusive...</td>\n",
       "      <td>scope</td>\n",
       "      <td>s</td>\n",
       "      <td>21</td>\n",
       "      <td>[ 0.03345993 -0.01828792 -0.02228408 ...  0.00...</td>\n",
       "      <td>[-0.00119899  0.01662432 -0.0293218  ... -0.01...</td>\n",
       "      <td>[ 0.01320493  0.00461948 -0.0300191  ... -0.00...</td>\n",
       "      <td>[ 0.02655863  0.00925995  0.00356737 ... -0.01...</td>\n",
       "      <td>[ 1.47426575e-02  7.25996643e-02  2.81576551e-...</td>\n",
       "      <td>[ 3.83796506e-02  5.48125803e-02 -5.89791983e-...</td>\n",
       "    </tr>\n",
       "    <tr>\n",
       "      <th>3</th>\n",
       "      <td>EN50128</td>\n",
       "      <td>1.3</td>\n",
       "      <td>NaN</td>\n",
       "      <td>This European Standard is not relevant for sof...</td>\n",
       "      <td>scope</td>\n",
       "      <td>s</td>\n",
       "      <td>29</td>\n",
       "      <td>[ 0.02221433 -0.02572916 -0.04346513 ...  0.00...</td>\n",
       "      <td>[-0.00119899  0.01662432 -0.0293218  ... -0.01...</td>\n",
       "      <td>[-0.00918901 -0.00785633  0.00076057 ...  0.00...</td>\n",
       "      <td>[ 0.02655863  0.00925995  0.00356737 ... -0.01...</td>\n",
       "      <td>[-3.87206674e-02  2.35516652e-02 -4.62539382e-...</td>\n",
       "      <td>[ 3.83796506e-02  5.48125803e-02 -5.89791983e-...</td>\n",
       "    </tr>\n",
       "    <tr>\n",
       "      <th>4</th>\n",
       "      <td>EN50128</td>\n",
       "      <td>1.4</td>\n",
       "      <td>NaN</td>\n",
       "      <td>This European Standard applies to all safety r...</td>\n",
       "      <td>scope</td>\n",
       "      <td>s</td>\n",
       "      <td>48</td>\n",
       "      <td>[ 0.03539522 -0.0190299  -0.04608537 ... -0.00...</td>\n",
       "      <td>[-0.00119899  0.01662432 -0.0293218  ... -0.01...</td>\n",
       "      <td>[ 0.0064631   0.00557209 -0.00887293 ... -0.01...</td>\n",
       "      <td>[ 0.02655863  0.00925995  0.00356737 ... -0.01...</td>\n",
       "      <td>[ 3.02667730e-02 -5.14729768e-02 -3.94287668e-...</td>\n",
       "      <td>[ 3.83796506e-02  5.48125803e-02 -5.89791983e-...</td>\n",
       "    </tr>\n",
       "  </tbody>\n",
       "</table>\n",
       "</div>"
      ]
     },
     "execution_count": 7,
     "metadata": {},
     "output_type": "execute_result"
    }
   ],
   "execution_count": 7
  },
  {
   "metadata": {
    "ExecuteTime": {
     "end_time": "2025-02-21T11:33:01.295878Z",
     "start_time": "2025-02-21T11:33:01.290459Z"
    }
   },
   "cell_type": "code",
   "source": "df = df.dropna(subset=['Clause Text'])",
   "id": "f337bcf2db9ff66b",
   "outputs": [],
   "execution_count": 8
  },
  {
   "metadata": {
    "ExecuteTime": {
     "end_time": "2025-02-21T11:33:03.678879Z",
     "start_time": "2025-02-21T11:33:03.669880Z"
    }
   },
   "cell_type": "code",
   "source": "df.head()",
   "id": "6e4cdb8fab44a6c7",
   "outputs": [
    {
     "data": {
      "text/plain": [
       "  Document Clause Number Clause Heading  \\\n",
       "1  EN50128           1.1            NaN   \n",
       "2  EN50128           1.2            NaN   \n",
       "3  EN50128           1.3            NaN   \n",
       "4  EN50128           1.4            NaN   \n",
       "5  EN50128           1.5            NaN   \n",
       "\n",
       "                                         Clause Text Human Heading Tag  \\\n",
       "1  This European Standard specifies the process a...         scope   s   \n",
       "2  This European Standard is applicable exclusive...         scope   s   \n",
       "3  This European Standard is not relevant for sof...         scope   s   \n",
       "4  This European Standard applies to all safety r...         scope   s   \n",
       "5  This European Standard also addresses the use ...         scope   s   \n",
       "\n",
       "   Clause Word Count    Embedding_intfloat/multilingual-e5-large_Clause  \\\n",
       "1                 61  [ 0.04056    -0.01077269 -0.05022712 ... -0.00...   \n",
       "2                 21  [ 0.03345993 -0.01828792 -0.02228408 ...  0.00...   \n",
       "3                 29  [ 0.02221433 -0.02572916 -0.04346513 ...  0.00...   \n",
       "4                 48  [ 0.03539522 -0.0190299  -0.04608537 ... -0.00...   \n",
       "5                 35  [ 0.03733395 -0.00782322 -0.02362988 ... -0.02...   \n",
       "\n",
       "    Embedding_intfloat/multilingual-e5-large_Heading  \\\n",
       "1  [-0.00119899  0.01662432 -0.0293218  ... -0.01...   \n",
       "2  [-0.00119899  0.01662432 -0.0293218  ... -0.01...   \n",
       "3  [-0.00119899  0.01662432 -0.0293218  ... -0.01...   \n",
       "4  [-0.00119899  0.01662432 -0.0293218  ... -0.01...   \n",
       "5  [-0.00119899  0.01662432 -0.0293218  ... -0.01...   \n",
       "\n",
       "  Embedding_Snowflake/snowflake-arctic-embed-l-v2.0_Clause  \\\n",
       "1  [-0.01203515 -0.0296172  -0.00068222 ... -0.02...         \n",
       "2  [ 0.01320493  0.00461948 -0.0300191  ... -0.00...         \n",
       "3  [-0.00918901 -0.00785633  0.00076057 ...  0.00...         \n",
       "4  [ 0.0064631   0.00557209 -0.00887293 ... -0.01...         \n",
       "5  [ 0.00063     0.0277241  -0.0238568  ...  0.00...         \n",
       "\n",
       "  Embedding_Snowflake/snowflake-arctic-embed-l-v2.0_Heading  \\\n",
       "1  [ 0.02655863  0.00925995  0.00356737 ... -0.01...          \n",
       "2  [ 0.02655863  0.00925995  0.00356737 ... -0.01...          \n",
       "3  [ 0.02655863  0.00925995  0.00356737 ... -0.01...          \n",
       "4  [ 0.02655863  0.00925995  0.00356737 ... -0.01...          \n",
       "5  [ 0.02655863  0.00925995  0.00356737 ... -0.01...          \n",
       "\n",
       "  Embedding_sentence-transformers/all-MiniLM-L12-v2_Clause  \\\n",
       "1  [-2.44193077e-02 -4.22520377e-02 -3.41697484e-...         \n",
       "2  [ 1.47426575e-02  7.25996643e-02  2.81576551e-...         \n",
       "3  [-3.87206674e-02  2.35516652e-02 -4.62539382e-...         \n",
       "4  [ 3.02667730e-02 -5.14729768e-02 -3.94287668e-...         \n",
       "5  [-9.37535167e-02  1.50619037e-02  1.62071269e-...         \n",
       "\n",
       "  Embedding_sentence-transformers/all-MiniLM-L12-v2_Heading  \n",
       "1  [ 3.83796506e-02  5.48125803e-02 -5.89791983e-...         \n",
       "2  [ 3.83796506e-02  5.48125803e-02 -5.89791983e-...         \n",
       "3  [ 3.83796506e-02  5.48125803e-02 -5.89791983e-...         \n",
       "4  [ 3.83796506e-02  5.48125803e-02 -5.89791983e-...         \n",
       "5  [ 3.83796506e-02  5.48125803e-02 -5.89791983e-...         "
      ],
      "text/html": [
       "<div>\n",
       "<style scoped>\n",
       "    .dataframe tbody tr th:only-of-type {\n",
       "        vertical-align: middle;\n",
       "    }\n",
       "\n",
       "    .dataframe tbody tr th {\n",
       "        vertical-align: top;\n",
       "    }\n",
       "\n",
       "    .dataframe thead th {\n",
       "        text-align: right;\n",
       "    }\n",
       "</style>\n",
       "<table border=\"1\" class=\"dataframe\">\n",
       "  <thead>\n",
       "    <tr style=\"text-align: right;\">\n",
       "      <th></th>\n",
       "      <th>Document</th>\n",
       "      <th>Clause Number</th>\n",
       "      <th>Clause Heading</th>\n",
       "      <th>Clause Text</th>\n",
       "      <th>Human Heading</th>\n",
       "      <th>Tag</th>\n",
       "      <th>Clause Word Count</th>\n",
       "      <th>Embedding_intfloat/multilingual-e5-large_Clause</th>\n",
       "      <th>Embedding_intfloat/multilingual-e5-large_Heading</th>\n",
       "      <th>Embedding_Snowflake/snowflake-arctic-embed-l-v2.0_Clause</th>\n",
       "      <th>Embedding_Snowflake/snowflake-arctic-embed-l-v2.0_Heading</th>\n",
       "      <th>Embedding_sentence-transformers/all-MiniLM-L12-v2_Clause</th>\n",
       "      <th>Embedding_sentence-transformers/all-MiniLM-L12-v2_Heading</th>\n",
       "    </tr>\n",
       "  </thead>\n",
       "  <tbody>\n",
       "    <tr>\n",
       "      <th>1</th>\n",
       "      <td>EN50128</td>\n",
       "      <td>1.1</td>\n",
       "      <td>NaN</td>\n",
       "      <td>This European Standard specifies the process a...</td>\n",
       "      <td>scope</td>\n",
       "      <td>s</td>\n",
       "      <td>61</td>\n",
       "      <td>[ 0.04056    -0.01077269 -0.05022712 ... -0.00...</td>\n",
       "      <td>[-0.00119899  0.01662432 -0.0293218  ... -0.01...</td>\n",
       "      <td>[-0.01203515 -0.0296172  -0.00068222 ... -0.02...</td>\n",
       "      <td>[ 0.02655863  0.00925995  0.00356737 ... -0.01...</td>\n",
       "      <td>[-2.44193077e-02 -4.22520377e-02 -3.41697484e-...</td>\n",
       "      <td>[ 3.83796506e-02  5.48125803e-02 -5.89791983e-...</td>\n",
       "    </tr>\n",
       "    <tr>\n",
       "      <th>2</th>\n",
       "      <td>EN50128</td>\n",
       "      <td>1.2</td>\n",
       "      <td>NaN</td>\n",
       "      <td>This European Standard is applicable exclusive...</td>\n",
       "      <td>scope</td>\n",
       "      <td>s</td>\n",
       "      <td>21</td>\n",
       "      <td>[ 0.03345993 -0.01828792 -0.02228408 ...  0.00...</td>\n",
       "      <td>[-0.00119899  0.01662432 -0.0293218  ... -0.01...</td>\n",
       "      <td>[ 0.01320493  0.00461948 -0.0300191  ... -0.00...</td>\n",
       "      <td>[ 0.02655863  0.00925995  0.00356737 ... -0.01...</td>\n",
       "      <td>[ 1.47426575e-02  7.25996643e-02  2.81576551e-...</td>\n",
       "      <td>[ 3.83796506e-02  5.48125803e-02 -5.89791983e-...</td>\n",
       "    </tr>\n",
       "    <tr>\n",
       "      <th>3</th>\n",
       "      <td>EN50128</td>\n",
       "      <td>1.3</td>\n",
       "      <td>NaN</td>\n",
       "      <td>This European Standard is not relevant for sof...</td>\n",
       "      <td>scope</td>\n",
       "      <td>s</td>\n",
       "      <td>29</td>\n",
       "      <td>[ 0.02221433 -0.02572916 -0.04346513 ...  0.00...</td>\n",
       "      <td>[-0.00119899  0.01662432 -0.0293218  ... -0.01...</td>\n",
       "      <td>[-0.00918901 -0.00785633  0.00076057 ...  0.00...</td>\n",
       "      <td>[ 0.02655863  0.00925995  0.00356737 ... -0.01...</td>\n",
       "      <td>[-3.87206674e-02  2.35516652e-02 -4.62539382e-...</td>\n",
       "      <td>[ 3.83796506e-02  5.48125803e-02 -5.89791983e-...</td>\n",
       "    </tr>\n",
       "    <tr>\n",
       "      <th>4</th>\n",
       "      <td>EN50128</td>\n",
       "      <td>1.4</td>\n",
       "      <td>NaN</td>\n",
       "      <td>This European Standard applies to all safety r...</td>\n",
       "      <td>scope</td>\n",
       "      <td>s</td>\n",
       "      <td>48</td>\n",
       "      <td>[ 0.03539522 -0.0190299  -0.04608537 ... -0.00...</td>\n",
       "      <td>[-0.00119899  0.01662432 -0.0293218  ... -0.01...</td>\n",
       "      <td>[ 0.0064631   0.00557209 -0.00887293 ... -0.01...</td>\n",
       "      <td>[ 0.02655863  0.00925995  0.00356737 ... -0.01...</td>\n",
       "      <td>[ 3.02667730e-02 -5.14729768e-02 -3.94287668e-...</td>\n",
       "      <td>[ 3.83796506e-02  5.48125803e-02 -5.89791983e-...</td>\n",
       "    </tr>\n",
       "    <tr>\n",
       "      <th>5</th>\n",
       "      <td>EN50128</td>\n",
       "      <td>1.5</td>\n",
       "      <td>NaN</td>\n",
       "      <td>This European Standard also addresses the use ...</td>\n",
       "      <td>scope</td>\n",
       "      <td>s</td>\n",
       "      <td>35</td>\n",
       "      <td>[ 0.03733395 -0.00782322 -0.02362988 ... -0.02...</td>\n",
       "      <td>[-0.00119899  0.01662432 -0.0293218  ... -0.01...</td>\n",
       "      <td>[ 0.00063     0.0277241  -0.0238568  ...  0.00...</td>\n",
       "      <td>[ 0.02655863  0.00925995  0.00356737 ... -0.01...</td>\n",
       "      <td>[-9.37535167e-02  1.50619037e-02  1.62071269e-...</td>\n",
       "      <td>[ 3.83796506e-02  5.48125803e-02 -5.89791983e-...</td>\n",
       "    </tr>\n",
       "  </tbody>\n",
       "</table>\n",
       "</div>"
      ]
     },
     "execution_count": 9,
     "metadata": {},
     "output_type": "execute_result"
    }
   ],
   "execution_count": 9
  },
  {
   "cell_type": "code",
   "id": "9e762416-6d98-4b99-8a93-b2ae256cd523",
   "metadata": {
    "ExecuteTime": {
     "end_time": "2025-02-21T11:33:19.832823Z",
     "start_time": "2025-02-21T11:33:19.827215Z"
    }
   },
   "source": [
    "# Function to compute self reflection scores\n",
    "def compute_self_reflection_scores(df, embedding_col, similarity_threshold=0.99):\n",
    "    scores = []\n",
    "    \n",
    "    for doc_id, group in tqdm(df.groupby('Document'), desc=\"Processing Documents\"):\n",
    "        print(f\"\\n🔍 Processing Document: {doc_id}, Total Clauses: {len(group)}\")\n",
    "        \n",
    "        # Ensure embeddings are NumPy arrays\n",
    "        embeddings = np.array([\n",
    "            np.array(e) if isinstance(e, (list, np.ndarray)) else np.fromstring(e.strip(\"[]\"), sep=' ') \n",
    "            for e in group[embedding_col].values\n",
    "        ])\n",
    "\n",
    "        # Compute cosine similarity matrix\n",
    "        similarities = cosine_similarity(embeddings)\n",
    "\n",
    "        for i, row in enumerate(group.index):\n",
    "            # Count how many are very similar (including itself)\n",
    "            similar_count = np.sum(similarities[i] >= similarity_threshold)\n",
    "\n",
    "            # If the clause is unique, it should have a score of 1\n",
    "            score = 1 / similar_count if similar_count > 0 else 1\n",
    "            scores.append(score)\n",
    "\n",
    "    return scores"
   ],
   "outputs": [],
   "execution_count": 10
  },
  {
   "metadata": {
    "ExecuteTime": {
     "end_time": "2025-02-21T11:33:20.411771Z",
     "start_time": "2025-02-21T11:33:20.327491Z"
    }
   },
   "cell_type": "code",
   "source": [
    "threshold = 0.99\n",
    "for model_tuple in embedding_models:\n",
    "    df[f'{model_tuple[1]}_clause_self_reflection_score_t_{str(threshold)}'] = compute_self_reflection_scores(df, f'Embedding_{model_tuple[0]}_Clause', similarity_threshold=threshold)"
   ],
   "id": "19f3964bcba4b5c6",
   "outputs": [
    {
     "name": "stderr",
     "output_type": "stream",
     "text": [
      "Processing Documents:   0%|          | 0/3 [00:00<?, ?it/s]C:\\Users\\Yuval\\AppData\\Local\\Temp\\ipykernel_46504\\1659538488.py:10: DeprecationWarning: string or file could not be read to its end due to unmatched data; this will raise a ValueError in the future.\n",
      "  np.array(e) if isinstance(e, (list, np.ndarray)) else np.fromstring(e.strip(\"[]\"), sep=' ')\n",
      "C:\\Users\\Yuval\\AppData\\Local\\Temp\\ipykernel_46504\\1659538488.py:10: DeprecationWarning: string or file could not be read to its end due to unmatched data; this will raise a ValueError in the future.\n",
      "  np.array(e) if isinstance(e, (list, np.ndarray)) else np.fromstring(e.strip(\"[]\"), sep=' ')\n",
      "C:\\Users\\Yuval\\AppData\\Local\\Temp\\ipykernel_46504\\1659538488.py:10: DeprecationWarning: string or file could not be read to its end due to unmatched data; this will raise a ValueError in the future.\n",
      "  np.array(e) if isinstance(e, (list, np.ndarray)) else np.fromstring(e.strip(\"[]\"), sep=' ')\n",
      "Processing Documents: 100%|██████████| 3/3 [00:00<00:00, 329.26it/s]\n"
     ]
    },
    {
     "name": "stdout",
     "output_type": "stream",
     "text": [
      "\n",
      "🔍 Processing Document: EN50128, Total Clauses: 547\n",
      "\n",
      "🔍 Processing Document: ISO26262-10, Total Clauses: 66\n",
      "\n",
      "🔍 Processing Document: ISO26262-8, Total Clauses: 103\n"
     ]
    },
    {
     "name": "stderr",
     "output_type": "stream",
     "text": [
      "Processing Documents:   0%|          | 0/3 [00:00<?, ?it/s]C:\\Users\\Yuval\\AppData\\Local\\Temp\\ipykernel_46504\\1659538488.py:10: DeprecationWarning: string or file could not be read to its end due to unmatched data; this will raise a ValueError in the future.\n",
      "  np.array(e) if isinstance(e, (list, np.ndarray)) else np.fromstring(e.strip(\"[]\"), sep=' ')\n",
      "C:\\Users\\Yuval\\AppData\\Local\\Temp\\ipykernel_46504\\1659538488.py:10: DeprecationWarning: string or file could not be read to its end due to unmatched data; this will raise a ValueError in the future.\n",
      "  np.array(e) if isinstance(e, (list, np.ndarray)) else np.fromstring(e.strip(\"[]\"), sep=' ')\n",
      "C:\\Users\\Yuval\\AppData\\Local\\Temp\\ipykernel_46504\\1659538488.py:10: DeprecationWarning: string or file could not be read to its end due to unmatched data; this will raise a ValueError in the future.\n",
      "  np.array(e) if isinstance(e, (list, np.ndarray)) else np.fromstring(e.strip(\"[]\"), sep=' ')\n",
      "Processing Documents: 100%|██████████| 3/3 [00:00<00:00, 351.76it/s]\n"
     ]
    },
    {
     "name": "stdout",
     "output_type": "stream",
     "text": [
      "\n",
      "🔍 Processing Document: EN50128, Total Clauses: 547\n",
      "\n",
      "🔍 Processing Document: ISO26262-10, Total Clauses: 66\n",
      "\n",
      "🔍 Processing Document: ISO26262-8, Total Clauses: 103\n"
     ]
    },
    {
     "name": "stderr",
     "output_type": "stream",
     "text": [
      "Processing Documents: 100%|██████████| 3/3 [00:00<00:00, 59.15it/s]"
     ]
    },
    {
     "name": "stdout",
     "output_type": "stream",
     "text": [
      "\n",
      "🔍 Processing Document: EN50128, Total Clauses: 547\n",
      "\n",
      "🔍 Processing Document: ISO26262-10, Total Clauses: 66\n",
      "\n",
      "🔍 Processing Document: ISO26262-8, Total Clauses: 103\n"
     ]
    },
    {
     "name": "stderr",
     "output_type": "stream",
     "text": [
      "\n"
     ]
    }
   ],
   "execution_count": 11
  },
  {
   "cell_type": "code",
   "id": "8c9edb47-2c63-4228-ad7c-900cfc5f29ff",
   "metadata": {
    "ExecuteTime": {
     "end_time": "2025-02-21T11:33:22.426643Z",
     "start_time": "2025-02-21T11:33:22.415519Z"
    }
   },
   "source": "df.head(1)",
   "outputs": [
    {
     "data": {
      "text/plain": [
       "  Document Clause Number Clause Heading  \\\n",
       "1  EN50128           1.1            NaN   \n",
       "\n",
       "                                         Clause Text Human Heading Tag  \\\n",
       "1  This European Standard specifies the process a...         scope   s   \n",
       "\n",
       "   Clause Word Count    Embedding_intfloat/multilingual-e5-large_Clause  \\\n",
       "1                 61  [ 0.04056    -0.01077269 -0.05022712 ... -0.00...   \n",
       "\n",
       "    Embedding_intfloat/multilingual-e5-large_Heading  \\\n",
       "1  [-0.00119899  0.01662432 -0.0293218  ... -0.01...   \n",
       "\n",
       "  Embedding_Snowflake/snowflake-arctic-embed-l-v2.0_Clause  \\\n",
       "1  [-0.01203515 -0.0296172  -0.00068222 ... -0.02...         \n",
       "\n",
       "  Embedding_Snowflake/snowflake-arctic-embed-l-v2.0_Heading  \\\n",
       "1  [ 0.02655863  0.00925995  0.00356737 ... -0.01...          \n",
       "\n",
       "  Embedding_sentence-transformers/all-MiniLM-L12-v2_Clause  \\\n",
       "1  [-2.44193077e-02 -4.22520377e-02 -3.41697484e-...         \n",
       "\n",
       "  Embedding_sentence-transformers/all-MiniLM-L12-v2_Heading  \\\n",
       "1  [ 3.83796506e-02  5.48125803e-02 -5.89791983e-...          \n",
       "\n",
       "   e5_clause_self_reflection_score_t_0.99  \\\n",
       "1                                  0.0125   \n",
       "\n",
       "   snowflake_clause_self_reflection_score_t_0.99  \\\n",
       "1                                            0.2   \n",
       "\n",
       "   minilm_clause_self_reflection_score_t_0.99  \n",
       "1                                         1.0  "
      ],
      "text/html": [
       "<div>\n",
       "<style scoped>\n",
       "    .dataframe tbody tr th:only-of-type {\n",
       "        vertical-align: middle;\n",
       "    }\n",
       "\n",
       "    .dataframe tbody tr th {\n",
       "        vertical-align: top;\n",
       "    }\n",
       "\n",
       "    .dataframe thead th {\n",
       "        text-align: right;\n",
       "    }\n",
       "</style>\n",
       "<table border=\"1\" class=\"dataframe\">\n",
       "  <thead>\n",
       "    <tr style=\"text-align: right;\">\n",
       "      <th></th>\n",
       "      <th>Document</th>\n",
       "      <th>Clause Number</th>\n",
       "      <th>Clause Heading</th>\n",
       "      <th>Clause Text</th>\n",
       "      <th>Human Heading</th>\n",
       "      <th>Tag</th>\n",
       "      <th>Clause Word Count</th>\n",
       "      <th>Embedding_intfloat/multilingual-e5-large_Clause</th>\n",
       "      <th>Embedding_intfloat/multilingual-e5-large_Heading</th>\n",
       "      <th>Embedding_Snowflake/snowflake-arctic-embed-l-v2.0_Clause</th>\n",
       "      <th>Embedding_Snowflake/snowflake-arctic-embed-l-v2.0_Heading</th>\n",
       "      <th>Embedding_sentence-transformers/all-MiniLM-L12-v2_Clause</th>\n",
       "      <th>Embedding_sentence-transformers/all-MiniLM-L12-v2_Heading</th>\n",
       "      <th>e5_clause_self_reflection_score_t_0.99</th>\n",
       "      <th>snowflake_clause_self_reflection_score_t_0.99</th>\n",
       "      <th>minilm_clause_self_reflection_score_t_0.99</th>\n",
       "    </tr>\n",
       "  </thead>\n",
       "  <tbody>\n",
       "    <tr>\n",
       "      <th>1</th>\n",
       "      <td>EN50128</td>\n",
       "      <td>1.1</td>\n",
       "      <td>NaN</td>\n",
       "      <td>This European Standard specifies the process a...</td>\n",
       "      <td>scope</td>\n",
       "      <td>s</td>\n",
       "      <td>61</td>\n",
       "      <td>[ 0.04056    -0.01077269 -0.05022712 ... -0.00...</td>\n",
       "      <td>[-0.00119899  0.01662432 -0.0293218  ... -0.01...</td>\n",
       "      <td>[-0.01203515 -0.0296172  -0.00068222 ... -0.02...</td>\n",
       "      <td>[ 0.02655863  0.00925995  0.00356737 ... -0.01...</td>\n",
       "      <td>[-2.44193077e-02 -4.22520377e-02 -3.41697484e-...</td>\n",
       "      <td>[ 3.83796506e-02  5.48125803e-02 -5.89791983e-...</td>\n",
       "      <td>0.0125</td>\n",
       "      <td>0.2</td>\n",
       "      <td>1.0</td>\n",
       "    </tr>\n",
       "  </tbody>\n",
       "</table>\n",
       "</div>"
      ]
     },
     "execution_count": 12,
     "metadata": {},
     "output_type": "execute_result"
    }
   ],
   "execution_count": 12
  },
  {
   "cell_type": "code",
   "id": "ccb51cc4-b0dd-4bd2-a1f3-608a395ce269",
   "metadata": {
    "ExecuteTime": {
     "end_time": "2025-02-21T11:33:25.880062Z",
     "start_time": "2025-02-21T11:33:25.875829Z"
    }
   },
   "source": [
    "# Ensure embeddings are NumPy arrays and not stored as strings\n",
    "def convert_to_array(embedding):\n",
    "    if isinstance(embedding, np.ndarray):\n",
    "        return embedding\n",
    "    elif isinstance(embedding, list):\n",
    "        return np.array(embedding)\n",
    "    elif isinstance(embedding, str):\n",
    "        return np.fromstring(embedding.strip(\"[]\"), sep=' ')\n",
    "    else:\n",
    "        raise ValueError(f\"Unexpected embedding format: {type(embedding)}\")"
   ],
   "outputs": [],
   "execution_count": 13
  },
  {
   "cell_type": "code",
   "id": "4f0e5770-ae83-449c-9616-44a94a6b6382",
   "metadata": {
    "ExecuteTime": {
     "end_time": "2025-02-21T11:33:28.437114Z",
     "start_time": "2025-02-21T11:33:28.431518Z"
    }
   },
   "source": [
    "def get_similar_clauses(df, target_row, embedding_col, similarity_threshold=0.99):\n",
    "    \"\"\"\n",
    "    Find similar clauses for a given row within the same document.\n",
    "    \n",
    "    Args:\n",
    "        df (pd.DataFrame): DataFrame containing all records.\n",
    "        target_row (pd.Series): A single row (record) from df.\n",
    "        embedding_col (str): Column containing embeddings.\n",
    "        similarity_threshold (float): Minimum similarity for a clause to be considered similar.\n",
    "\n",
    "    Returns:\n",
    "        pd.DataFrame: DataFrame containing similar clauses and their similarity scores.\n",
    "    \"\"\"\n",
    "    doc_id = target_row['Document']\n",
    "    \n",
    "    # Filter to only include records from the same document\n",
    "    doc_df = df[df['Document'] == doc_id].copy()\n",
    "    \n",
    "    # Ensure embeddings are NumPy arrays\n",
    "    embeddings = np.array([\n",
    "        np.array(e) if isinstance(e, (list, np.ndarray)) else np.fromstring(e.strip(\"[]\"), sep=' ') \n",
    "        for e in doc_df[embedding_col].values\n",
    "    ])\n",
    "    \n",
    "    # Find index of the target row within doc_df\n",
    "    target_embedding = target_embedding = convert_to_array(target_row[embedding_col]).reshape(1, -1)\n",
    "    \n",
    "    # Compute cosine similarity between target embedding and all embeddings in the document\n",
    "    similarities = cosine_similarity(target_embedding, embeddings).flatten()\n",
    "    \n",
    "    # Filter out clauses below the similarity threshold\n",
    "    doc_df['Similarity'] = similarities\n",
    "    similar_clauses_df = doc_df[doc_df['Similarity'] >= similarity_threshold].copy()\n",
    "    \n",
    "    # Sort by similarity (highest first)\n",
    "    similar_clauses_df = similar_clauses_df.sort_values(by=\"Similarity\", ascending=False)\n",
    "\n",
    "    return similar_clauses_df[['Clause Text', 'Document', 'Similarity']]"
   ],
   "outputs": [],
   "execution_count": 14
  },
  {
   "cell_type": "code",
   "id": "7bbf5e03-46bd-47c9-9362-71da423e8fbd",
   "metadata": {
    "ExecuteTime": {
     "end_time": "2025-02-21T11:33:29.542155Z",
     "start_time": "2025-02-21T11:33:29.539103Z"
    }
   },
   "source": [
    "record_index = 10\n",
    "target_row = df.iloc[record_index]"
   ],
   "outputs": [],
   "execution_count": 15
  },
  {
   "cell_type": "code",
   "id": "92e989b0-49f5-4040-9968-2fcffcace623",
   "metadata": {
    "ExecuteTime": {
     "end_time": "2025-02-21T11:33:30.054776Z",
     "start_time": "2025-02-21T11:33:29.992654Z"
    }
   },
   "source": "similar_clauses = get_similar_clauses(df, target_row, f'Embedding_{embedding_models[2][0]}_Clause', similarity_threshold=0.99)",
   "outputs": [],
   "execution_count": 16
  },
  {
   "cell_type": "code",
   "id": "d9466462-4f9b-42ce-93d3-cff7c7275f90",
   "metadata": {
    "ExecuteTime": {
     "end_time": "2025-02-21T11:33:30.538354Z",
     "start_time": "2025-02-21T11:33:30.529851Z"
    }
   },
   "source": [
    "similar_clauses.iloc[0:5]"
   ],
   "outputs": [
    {
     "data": {
      "text/plain": [
       "                                          Clause Text Document  Similarity\n",
       "12  For the purposes of this document, the followi...  EN50128         1.0"
      ],
      "text/html": [
       "<div>\n",
       "<style scoped>\n",
       "    .dataframe tbody tr th:only-of-type {\n",
       "        vertical-align: middle;\n",
       "    }\n",
       "\n",
       "    .dataframe tbody tr th {\n",
       "        vertical-align: top;\n",
       "    }\n",
       "\n",
       "    .dataframe thead th {\n",
       "        text-align: right;\n",
       "    }\n",
       "</style>\n",
       "<table border=\"1\" class=\"dataframe\">\n",
       "  <thead>\n",
       "    <tr style=\"text-align: right;\">\n",
       "      <th></th>\n",
       "      <th>Clause Text</th>\n",
       "      <th>Document</th>\n",
       "      <th>Similarity</th>\n",
       "    </tr>\n",
       "  </thead>\n",
       "  <tbody>\n",
       "    <tr>\n",
       "      <th>12</th>\n",
       "      <td>For the purposes of this document, the followi...</td>\n",
       "      <td>EN50128</td>\n",
       "      <td>1.0</td>\n",
       "    </tr>\n",
       "  </tbody>\n",
       "</table>\n",
       "</div>"
      ]
     },
     "execution_count": 17,
     "metadata": {},
     "output_type": "execute_result"
    }
   ],
   "execution_count": 17
  },
  {
   "cell_type": "markdown",
   "id": "19faaff4-bd8b-432f-becb-374fa0345f66",
   "metadata": {},
   "source": [
    "### Visualize the results"
   ]
  },
  {
   "cell_type": "code",
   "id": "1b4b6d8e-127c-4ed9-a59c-099310a1615f",
   "metadata": {
    "ExecuteTime": {
     "end_time": "2025-02-21T11:33:32.523145Z",
     "start_time": "2025-02-21T11:33:32.433364Z"
    }
   },
   "source": [
    "threshold = 0.999999\n",
    "for model_tuple in embedding_models:\n",
    "    df[f'{model_tuple[1]}_clause_self_reflection_score_t_{str(threshold)}'] = compute_self_reflection_scores(df, f'Embedding_{model_tuple[0]}_Clause', similarity_threshold=threshold)"
   ],
   "outputs": [
    {
     "name": "stderr",
     "output_type": "stream",
     "text": [
      "Processing Documents:   0%|          | 0/3 [00:00<?, ?it/s]C:\\Users\\Yuval\\AppData\\Local\\Temp\\ipykernel_46504\\1659538488.py:10: DeprecationWarning: string or file could not be read to its end due to unmatched data; this will raise a ValueError in the future.\n",
      "  np.array(e) if isinstance(e, (list, np.ndarray)) else np.fromstring(e.strip(\"[]\"), sep=' ')\n",
      "C:\\Users\\Yuval\\AppData\\Local\\Temp\\ipykernel_46504\\1659538488.py:10: DeprecationWarning: string or file could not be read to its end due to unmatched data; this will raise a ValueError in the future.\n",
      "  np.array(e) if isinstance(e, (list, np.ndarray)) else np.fromstring(e.strip(\"[]\"), sep=' ')\n",
      "C:\\Users\\Yuval\\AppData\\Local\\Temp\\ipykernel_46504\\1659538488.py:10: DeprecationWarning: string or file could not be read to its end due to unmatched data; this will raise a ValueError in the future.\n",
      "  np.array(e) if isinstance(e, (list, np.ndarray)) else np.fromstring(e.strip(\"[]\"), sep=' ')\n",
      "Processing Documents: 100%|██████████| 3/3 [00:00<00:00, 285.59it/s]\n"
     ]
    },
    {
     "name": "stdout",
     "output_type": "stream",
     "text": [
      "\n",
      "🔍 Processing Document: EN50128, Total Clauses: 547\n",
      "\n",
      "🔍 Processing Document: ISO26262-10, Total Clauses: 66\n",
      "\n",
      "🔍 Processing Document: ISO26262-8, Total Clauses: 103\n"
     ]
    },
    {
     "name": "stderr",
     "output_type": "stream",
     "text": [
      "Processing Documents:   0%|          | 0/3 [00:00<?, ?it/s]C:\\Users\\Yuval\\AppData\\Local\\Temp\\ipykernel_46504\\1659538488.py:10: DeprecationWarning: string or file could not be read to its end due to unmatched data; this will raise a ValueError in the future.\n",
      "  np.array(e) if isinstance(e, (list, np.ndarray)) else np.fromstring(e.strip(\"[]\"), sep=' ')\n",
      "C:\\Users\\Yuval\\AppData\\Local\\Temp\\ipykernel_46504\\1659538488.py:10: DeprecationWarning: string or file could not be read to its end due to unmatched data; this will raise a ValueError in the future.\n",
      "  np.array(e) if isinstance(e, (list, np.ndarray)) else np.fromstring(e.strip(\"[]\"), sep=' ')\n",
      "C:\\Users\\Yuval\\AppData\\Local\\Temp\\ipykernel_46504\\1659538488.py:10: DeprecationWarning: string or file could not be read to its end due to unmatched data; this will raise a ValueError in the future.\n",
      "  np.array(e) if isinstance(e, (list, np.ndarray)) else np.fromstring(e.strip(\"[]\"), sep=' ')\n",
      "Processing Documents: 100%|██████████| 3/3 [00:00<00:00, 398.29it/s]\n"
     ]
    },
    {
     "name": "stdout",
     "output_type": "stream",
     "text": [
      "\n",
      "🔍 Processing Document: EN50128, Total Clauses: 547\n",
      "\n",
      "🔍 Processing Document: ISO26262-10, Total Clauses: 66\n",
      "\n",
      "🔍 Processing Document: ISO26262-8, Total Clauses: 103\n"
     ]
    },
    {
     "name": "stderr",
     "output_type": "stream",
     "text": [
      "Processing Documents: 100%|██████████| 3/3 [00:00<00:00, 55.72it/s]"
     ]
    },
    {
     "name": "stdout",
     "output_type": "stream",
     "text": [
      "\n",
      "🔍 Processing Document: EN50128, Total Clauses: 547\n",
      "\n",
      "🔍 Processing Document: ISO26262-10, Total Clauses: 66\n",
      "\n",
      "🔍 Processing Document: ISO26262-8, Total Clauses: 103\n"
     ]
    },
    {
     "name": "stderr",
     "output_type": "stream",
     "text": [
      "\n"
     ]
    }
   ],
   "execution_count": 18
  },
  {
   "cell_type": "code",
   "id": "64758b3d-2189-4ab0-81b3-c67ed14b325f",
   "metadata": {
    "ExecuteTime": {
     "end_time": "2025-02-21T11:33:33.872611Z",
     "start_time": "2025-02-21T11:33:33.860574Z"
    }
   },
   "source": "df.head(5)",
   "outputs": [
    {
     "data": {
      "text/plain": [
       "  Document Clause Number Clause Heading  \\\n",
       "1  EN50128           1.1            NaN   \n",
       "2  EN50128           1.2            NaN   \n",
       "3  EN50128           1.3            NaN   \n",
       "4  EN50128           1.4            NaN   \n",
       "5  EN50128           1.5            NaN   \n",
       "\n",
       "                                         Clause Text Human Heading Tag  \\\n",
       "1  This European Standard specifies the process a...         scope   s   \n",
       "2  This European Standard is applicable exclusive...         scope   s   \n",
       "3  This European Standard is not relevant for sof...         scope   s   \n",
       "4  This European Standard applies to all safety r...         scope   s   \n",
       "5  This European Standard also addresses the use ...         scope   s   \n",
       "\n",
       "   Clause Word Count    Embedding_intfloat/multilingual-e5-large_Clause  \\\n",
       "1                 61  [ 0.04056    -0.01077269 -0.05022712 ... -0.00...   \n",
       "2                 21  [ 0.03345993 -0.01828792 -0.02228408 ...  0.00...   \n",
       "3                 29  [ 0.02221433 -0.02572916 -0.04346513 ...  0.00...   \n",
       "4                 48  [ 0.03539522 -0.0190299  -0.04608537 ... -0.00...   \n",
       "5                 35  [ 0.03733395 -0.00782322 -0.02362988 ... -0.02...   \n",
       "\n",
       "    Embedding_intfloat/multilingual-e5-large_Heading  \\\n",
       "1  [-0.00119899  0.01662432 -0.0293218  ... -0.01...   \n",
       "2  [-0.00119899  0.01662432 -0.0293218  ... -0.01...   \n",
       "3  [-0.00119899  0.01662432 -0.0293218  ... -0.01...   \n",
       "4  [-0.00119899  0.01662432 -0.0293218  ... -0.01...   \n",
       "5  [-0.00119899  0.01662432 -0.0293218  ... -0.01...   \n",
       "\n",
       "  Embedding_Snowflake/snowflake-arctic-embed-l-v2.0_Clause  \\\n",
       "1  [-0.01203515 -0.0296172  -0.00068222 ... -0.02...         \n",
       "2  [ 0.01320493  0.00461948 -0.0300191  ... -0.00...         \n",
       "3  [-0.00918901 -0.00785633  0.00076057 ...  0.00...         \n",
       "4  [ 0.0064631   0.00557209 -0.00887293 ... -0.01...         \n",
       "5  [ 0.00063     0.0277241  -0.0238568  ...  0.00...         \n",
       "\n",
       "  Embedding_Snowflake/snowflake-arctic-embed-l-v2.0_Heading  \\\n",
       "1  [ 0.02655863  0.00925995  0.00356737 ... -0.01...          \n",
       "2  [ 0.02655863  0.00925995  0.00356737 ... -0.01...          \n",
       "3  [ 0.02655863  0.00925995  0.00356737 ... -0.01...          \n",
       "4  [ 0.02655863  0.00925995  0.00356737 ... -0.01...          \n",
       "5  [ 0.02655863  0.00925995  0.00356737 ... -0.01...          \n",
       "\n",
       "  Embedding_sentence-transformers/all-MiniLM-L12-v2_Clause  \\\n",
       "1  [-2.44193077e-02 -4.22520377e-02 -3.41697484e-...         \n",
       "2  [ 1.47426575e-02  7.25996643e-02  2.81576551e-...         \n",
       "3  [-3.87206674e-02  2.35516652e-02 -4.62539382e-...         \n",
       "4  [ 3.02667730e-02 -5.14729768e-02 -3.94287668e-...         \n",
       "5  [-9.37535167e-02  1.50619037e-02  1.62071269e-...         \n",
       "\n",
       "  Embedding_sentence-transformers/all-MiniLM-L12-v2_Heading  \\\n",
       "1  [ 3.83796506e-02  5.48125803e-02 -5.89791983e-...          \n",
       "2  [ 3.83796506e-02  5.48125803e-02 -5.89791983e-...          \n",
       "3  [ 3.83796506e-02  5.48125803e-02 -5.89791983e-...          \n",
       "4  [ 3.83796506e-02  5.48125803e-02 -5.89791983e-...          \n",
       "5  [ 3.83796506e-02  5.48125803e-02 -5.89791983e-...          \n",
       "\n",
       "   e5_clause_self_reflection_score_t_0.99  \\\n",
       "1                                0.012500   \n",
       "2                                0.032258   \n",
       "3                                0.029412   \n",
       "4                                0.013158   \n",
       "5                                0.027027   \n",
       "\n",
       "   snowflake_clause_self_reflection_score_t_0.99  \\\n",
       "1                                       0.200000   \n",
       "2                                       1.000000   \n",
       "3                                       0.083333   \n",
       "4                                       0.500000   \n",
       "5                                       1.000000   \n",
       "\n",
       "   minilm_clause_self_reflection_score_t_0.99  \\\n",
       "1                                         1.0   \n",
       "2                                         1.0   \n",
       "3                                         1.0   \n",
       "4                                         1.0   \n",
       "5                                         1.0   \n",
       "\n",
       "   e5_clause_self_reflection_score_t_0.999999  \\\n",
       "1                                         1.0   \n",
       "2                                         1.0   \n",
       "3                                         1.0   \n",
       "4                                         1.0   \n",
       "5                                         1.0   \n",
       "\n",
       "   snowflake_clause_self_reflection_score_t_0.999999  \\\n",
       "1                                                1.0   \n",
       "2                                                1.0   \n",
       "3                                                1.0   \n",
       "4                                                1.0   \n",
       "5                                                1.0   \n",
       "\n",
       "   minilm_clause_self_reflection_score_t_0.999999  \n",
       "1                                             1.0  \n",
       "2                                             1.0  \n",
       "3                                             1.0  \n",
       "4                                             1.0  \n",
       "5                                             1.0  "
      ],
      "text/html": [
       "<div>\n",
       "<style scoped>\n",
       "    .dataframe tbody tr th:only-of-type {\n",
       "        vertical-align: middle;\n",
       "    }\n",
       "\n",
       "    .dataframe tbody tr th {\n",
       "        vertical-align: top;\n",
       "    }\n",
       "\n",
       "    .dataframe thead th {\n",
       "        text-align: right;\n",
       "    }\n",
       "</style>\n",
       "<table border=\"1\" class=\"dataframe\">\n",
       "  <thead>\n",
       "    <tr style=\"text-align: right;\">\n",
       "      <th></th>\n",
       "      <th>Document</th>\n",
       "      <th>Clause Number</th>\n",
       "      <th>Clause Heading</th>\n",
       "      <th>Clause Text</th>\n",
       "      <th>Human Heading</th>\n",
       "      <th>Tag</th>\n",
       "      <th>Clause Word Count</th>\n",
       "      <th>Embedding_intfloat/multilingual-e5-large_Clause</th>\n",
       "      <th>Embedding_intfloat/multilingual-e5-large_Heading</th>\n",
       "      <th>Embedding_Snowflake/snowflake-arctic-embed-l-v2.0_Clause</th>\n",
       "      <th>Embedding_Snowflake/snowflake-arctic-embed-l-v2.0_Heading</th>\n",
       "      <th>Embedding_sentence-transformers/all-MiniLM-L12-v2_Clause</th>\n",
       "      <th>Embedding_sentence-transformers/all-MiniLM-L12-v2_Heading</th>\n",
       "      <th>e5_clause_self_reflection_score_t_0.99</th>\n",
       "      <th>snowflake_clause_self_reflection_score_t_0.99</th>\n",
       "      <th>minilm_clause_self_reflection_score_t_0.99</th>\n",
       "      <th>e5_clause_self_reflection_score_t_0.999999</th>\n",
       "      <th>snowflake_clause_self_reflection_score_t_0.999999</th>\n",
       "      <th>minilm_clause_self_reflection_score_t_0.999999</th>\n",
       "    </tr>\n",
       "  </thead>\n",
       "  <tbody>\n",
       "    <tr>\n",
       "      <th>1</th>\n",
       "      <td>EN50128</td>\n",
       "      <td>1.1</td>\n",
       "      <td>NaN</td>\n",
       "      <td>This European Standard specifies the process a...</td>\n",
       "      <td>scope</td>\n",
       "      <td>s</td>\n",
       "      <td>61</td>\n",
       "      <td>[ 0.04056    -0.01077269 -0.05022712 ... -0.00...</td>\n",
       "      <td>[-0.00119899  0.01662432 -0.0293218  ... -0.01...</td>\n",
       "      <td>[-0.01203515 -0.0296172  -0.00068222 ... -0.02...</td>\n",
       "      <td>[ 0.02655863  0.00925995  0.00356737 ... -0.01...</td>\n",
       "      <td>[-2.44193077e-02 -4.22520377e-02 -3.41697484e-...</td>\n",
       "      <td>[ 3.83796506e-02  5.48125803e-02 -5.89791983e-...</td>\n",
       "      <td>0.012500</td>\n",
       "      <td>0.200000</td>\n",
       "      <td>1.0</td>\n",
       "      <td>1.0</td>\n",
       "      <td>1.0</td>\n",
       "      <td>1.0</td>\n",
       "    </tr>\n",
       "    <tr>\n",
       "      <th>2</th>\n",
       "      <td>EN50128</td>\n",
       "      <td>1.2</td>\n",
       "      <td>NaN</td>\n",
       "      <td>This European Standard is applicable exclusive...</td>\n",
       "      <td>scope</td>\n",
       "      <td>s</td>\n",
       "      <td>21</td>\n",
       "      <td>[ 0.03345993 -0.01828792 -0.02228408 ...  0.00...</td>\n",
       "      <td>[-0.00119899  0.01662432 -0.0293218  ... -0.01...</td>\n",
       "      <td>[ 0.01320493  0.00461948 -0.0300191  ... -0.00...</td>\n",
       "      <td>[ 0.02655863  0.00925995  0.00356737 ... -0.01...</td>\n",
       "      <td>[ 1.47426575e-02  7.25996643e-02  2.81576551e-...</td>\n",
       "      <td>[ 3.83796506e-02  5.48125803e-02 -5.89791983e-...</td>\n",
       "      <td>0.032258</td>\n",
       "      <td>1.000000</td>\n",
       "      <td>1.0</td>\n",
       "      <td>1.0</td>\n",
       "      <td>1.0</td>\n",
       "      <td>1.0</td>\n",
       "    </tr>\n",
       "    <tr>\n",
       "      <th>3</th>\n",
       "      <td>EN50128</td>\n",
       "      <td>1.3</td>\n",
       "      <td>NaN</td>\n",
       "      <td>This European Standard is not relevant for sof...</td>\n",
       "      <td>scope</td>\n",
       "      <td>s</td>\n",
       "      <td>29</td>\n",
       "      <td>[ 0.02221433 -0.02572916 -0.04346513 ...  0.00...</td>\n",
       "      <td>[-0.00119899  0.01662432 -0.0293218  ... -0.01...</td>\n",
       "      <td>[-0.00918901 -0.00785633  0.00076057 ...  0.00...</td>\n",
       "      <td>[ 0.02655863  0.00925995  0.00356737 ... -0.01...</td>\n",
       "      <td>[-3.87206674e-02  2.35516652e-02 -4.62539382e-...</td>\n",
       "      <td>[ 3.83796506e-02  5.48125803e-02 -5.89791983e-...</td>\n",
       "      <td>0.029412</td>\n",
       "      <td>0.083333</td>\n",
       "      <td>1.0</td>\n",
       "      <td>1.0</td>\n",
       "      <td>1.0</td>\n",
       "      <td>1.0</td>\n",
       "    </tr>\n",
       "    <tr>\n",
       "      <th>4</th>\n",
       "      <td>EN50128</td>\n",
       "      <td>1.4</td>\n",
       "      <td>NaN</td>\n",
       "      <td>This European Standard applies to all safety r...</td>\n",
       "      <td>scope</td>\n",
       "      <td>s</td>\n",
       "      <td>48</td>\n",
       "      <td>[ 0.03539522 -0.0190299  -0.04608537 ... -0.00...</td>\n",
       "      <td>[-0.00119899  0.01662432 -0.0293218  ... -0.01...</td>\n",
       "      <td>[ 0.0064631   0.00557209 -0.00887293 ... -0.01...</td>\n",
       "      <td>[ 0.02655863  0.00925995  0.00356737 ... -0.01...</td>\n",
       "      <td>[ 3.02667730e-02 -5.14729768e-02 -3.94287668e-...</td>\n",
       "      <td>[ 3.83796506e-02  5.48125803e-02 -5.89791983e-...</td>\n",
       "      <td>0.013158</td>\n",
       "      <td>0.500000</td>\n",
       "      <td>1.0</td>\n",
       "      <td>1.0</td>\n",
       "      <td>1.0</td>\n",
       "      <td>1.0</td>\n",
       "    </tr>\n",
       "    <tr>\n",
       "      <th>5</th>\n",
       "      <td>EN50128</td>\n",
       "      <td>1.5</td>\n",
       "      <td>NaN</td>\n",
       "      <td>This European Standard also addresses the use ...</td>\n",
       "      <td>scope</td>\n",
       "      <td>s</td>\n",
       "      <td>35</td>\n",
       "      <td>[ 0.03733395 -0.00782322 -0.02362988 ... -0.02...</td>\n",
       "      <td>[-0.00119899  0.01662432 -0.0293218  ... -0.01...</td>\n",
       "      <td>[ 0.00063     0.0277241  -0.0238568  ...  0.00...</td>\n",
       "      <td>[ 0.02655863  0.00925995  0.00356737 ... -0.01...</td>\n",
       "      <td>[-9.37535167e-02  1.50619037e-02  1.62071269e-...</td>\n",
       "      <td>[ 3.83796506e-02  5.48125803e-02 -5.89791983e-...</td>\n",
       "      <td>0.027027</td>\n",
       "      <td>1.000000</td>\n",
       "      <td>1.0</td>\n",
       "      <td>1.0</td>\n",
       "      <td>1.0</td>\n",
       "      <td>1.0</td>\n",
       "    </tr>\n",
       "  </tbody>\n",
       "</table>\n",
       "</div>"
      ]
     },
     "execution_count": 19,
     "metadata": {},
     "output_type": "execute_result"
    }
   ],
   "execution_count": 19
  },
  {
   "cell_type": "code",
   "id": "b4b8e17e-a250-4c13-8369-5a9f35420c63",
   "metadata": {},
   "source": [
    "!pip install seaborn"
   ],
   "outputs": [],
   "execution_count": null
  },
  {
   "cell_type": "code",
   "id": "8e9f0388-dc1b-45d3-b774-d2686f9e899a",
   "metadata": {
    "ExecuteTime": {
     "end_time": "2025-02-21T13:09:54.413823Z",
     "start_time": "2025-02-21T13:09:54.410806Z"
    }
   },
   "source": [
    "import matplotlib.pyplot as plt\n",
    "import seaborn as sns"
   ],
   "outputs": [],
   "execution_count": 23
  },
  {
   "metadata": {
    "ExecuteTime": {
     "end_time": "2025-02-21T13:09:55.551292Z",
     "start_time": "2025-02-21T13:09:55.546293Z"
    }
   },
   "cell_type": "code",
   "source": [
    "def plot_self_reflection_histograms(df, model_tuples, thresholds):\n",
    "    \"\"\"\n",
    "    Plots histograms for multiple embedding models and thresholds dynamically.\n",
    "    \n",
    "    :param df: Pandas DataFrame containing the scores.\n",
    "    :param models: List of embedding model names (e.g., ['e5', 'snowflake']).\n",
    "    :param thresholds: List of thresholds (e.g., ['099', '0999999']).\n",
    "    \"\"\"\n",
    "    num_plots = len(model_tuples) * len(thresholds)\n",
    "    fig, axes = plt.subplots(1, num_plots, figsize=(num_plots * 4, 6), sharey=True)\n",
    "    \n",
    "    if num_plots == 1:\n",
    "        axes = [axes]  # Ensure axes is iterable for a single plot case\n",
    "    \n",
    "    plot_idx = 0\n",
    "    for model in model_tuples:\n",
    "        for threshold in thresholds:\n",
    "            column_name = f\"{model[1]}_clause_self_reflection_score_t_{threshold}\"\n",
    "            if column_name in df.columns:\n",
    "                sns.histplot(\n",
    "                    data=df, x=column_name, hue='Document', bins=20, kde=True, alpha=0.6, ax=axes[plot_idx]\n",
    "                )\n",
    "                axes[plot_idx].set_title(f\"Histogram of Scores {model[1]} (Threshold {threshold})\")\n",
    "                axes[plot_idx].set_xlabel(f\"Clause Self-Reflection Score (t={threshold})\")\n",
    "                axes[plot_idx].grid(True)\n",
    "                plot_idx += 1\n",
    "    \n",
    "    # Adjust legend to appear outside the plot\n",
    "    handles, labels = axes[0].get_legend_handles_labels()\n",
    "    fig.legend(handles, labels, title=\"Source Document\", bbox_to_anchor=(1.05, 1), loc='upper left')\n",
    "    \n",
    "    plt.tight_layout(pad=5.0)\n",
    "    plt.show()\n"
   ],
   "id": "181077e01a0eeb0",
   "outputs": [],
   "execution_count": 24
  },
  {
   "metadata": {
    "ExecuteTime": {
     "end_time": "2025-02-21T13:09:57.437902Z",
     "start_time": "2025-02-21T13:09:57.029642Z"
    }
   },
   "cell_type": "code",
   "source": [
    "thresholds = [0.99, 0.999999]  # Add more thresholds as needed\n",
    "plot_self_reflection_histograms(df, [embedding_models[0]], thresholds)"
   ],
   "id": "2cd44453b520f47f",
   "outputs": [
    {
     "data": {
      "text/plain": [
       "<Figure size 800x600 with 2 Axes>"
      ],
      "image/png": "[encoded data removed]"
     },
     "metadata": {},
     "output_type": "display_data"
    }
   ],
   "execution_count": 25
  },
  {
   "metadata": {
    "ExecuteTime": {
     "end_time": "2025-02-21T13:10:06.304720Z",
     "start_time": "2025-02-21T13:10:05.917779Z"
    }
   },
   "cell_type": "code",
   "source": [
    "thresholds = [0.99, 0.999999]  # Add more thresholds as needed\n",
    "plot_self_reflection_histograms(df, [embedding_models[1]], thresholds)"
   ],
   "id": "7eb9cf2c0d7ff56d",
   "outputs": [
    {
     "data": {
      "text/plain": [
       "<Figure size 800x600 with 2 Axes>"
      ],
      "image/png": "[encoded data removed]"
     },
     "metadata": {},
     "output_type": "display_data"
    }
   ],
   "execution_count": 26
  },
  {
   "metadata": {
    "ExecuteTime": {
     "end_time": "2025-02-21T13:10:07.142121Z",
     "start_time": "2025-02-21T13:10:06.830954Z"
    }
   },
   "cell_type": "code",
   "source": [
    "thresholds = [0.99, 0.999999]  # Add more thresholds as needed\n",
    "plot_self_reflection_histograms(df, [embedding_models[2]], thresholds)"
   ],
   "id": "269b5a3173107ff4",
   "outputs": [
    {
     "data": {
      "text/plain": [
       "<Figure size 800x600 with 2 Axes>"
      ],
      "image/png": "[encoded data removed]"
     },
     "metadata": {},
     "output_type": "display_data"
    }
   ],
   "execution_count": 27
  },
  {
   "cell_type": "markdown",
   "id": "a0ef2366-c44b-4737-9e7f-ea5eebea0347",
   "metadata": {},
   "source": [
    "### Bijection Scores"
   ]
  },
  {
   "cell_type": "markdown",
   "id": "cf4c979b-077a-4680-9148-654555cc76d3",
   "metadata": {},
   "source": [
    "#### Clause level"
   ]
  },
  {
   "metadata": {
    "ExecuteTime": {
     "end_time": "2025-02-21T13:10:17.290903Z",
     "start_time": "2025-02-21T13:10:17.285686Z"
    }
   },
   "cell_type": "code",
   "source": [
    "def parse_embedding(embedding):\n",
    "    \"\"\" Converts string representation of embeddings to NumPy arrays \"\"\"\n",
    "    if isinstance(embedding, str):\n",
    "        return np.fromstring(embedding.strip('[]'), sep=' ')\n",
    "    return np.array(embedding)\n"
   ],
   "id": "2781bdfd0d6b8e43",
   "outputs": [],
   "execution_count": 28
  },
  {
   "metadata": {
    "ExecuteTime": {
     "end_time": "2025-02-21T13:10:18.245026Z",
     "start_time": "2025-02-21T13:10:18.238514Z"
    }
   },
   "cell_type": "code",
   "source": [
    "def compute_bijection_score(df, model_column):\n",
    "    \"\"\"\n",
    "    Computes the Bijection Score for a given embedding model.\n",
    "    :param df: DataFrame containing Document, Clause Text, and embeddings.\n",
    "    :param model_column: Column name containing the clause embeddings.\n",
    "    :return: Bijection Score (float)\n",
    "    \"\"\"\n",
    "    df = df.reset_index(drop=True)  # Ensure index alignment\n",
    "    documents = df['Document'].unique()\n",
    "    df[model_column] = df[model_column].apply(parse_embedding)  # Ensure embeddings are numeric\n",
    "    embeddings = np.vstack(df[model_column].values)\n",
    "    similarity_matrix = cosine_similarity(embeddings)\n",
    "    \n",
    "    bijection_matches = 0\n",
    "    total_clauses = 0\n",
    "    \n",
    "    for i, row in df.iterrows():\n",
    "        doc_A = row['Document']\n",
    "        best_matches = {}\n",
    "        \n",
    "        for doc_B in documents:\n",
    "            if doc_B == doc_A:\n",
    "                continue\n",
    "            \n",
    "            valid_indices = df[df['Document'] == doc_B].index.to_numpy()\n",
    "            \n",
    "            if valid_indices.size == 0:\n",
    "                continue\n",
    "            \n",
    "            similarities = similarity_matrix[i, valid_indices]\n",
    "            best_match_idx = valid_indices[np.argmax(similarities)]\n",
    "            best_matches[doc_B] = best_match_idx\n",
    "        \n",
    "        for doc_B, best_match_idx in best_matches.items():\n",
    "            reverse_valid_indices = df[df['Document'] == doc_A].index.to_numpy()\n",
    "            reverse_similarities = similarity_matrix[best_match_idx, reverse_valid_indices]\n",
    "            reverse_best_match_idx = reverse_valid_indices[np.argmax(reverse_similarities)]\n",
    "            \n",
    "            if reverse_best_match_idx == i:\n",
    "                bijection_matches += 1\n",
    "            \n",
    "            total_clauses += 1\n",
    "    \n",
    "    return bijection_matches / total_clauses if total_clauses > 0 else 0.0"
   ],
   "id": "9d4671cb4cc11755",
   "outputs": [],
   "execution_count": 29
  },
  {
   "metadata": {
    "ExecuteTime": {
     "end_time": "2025-02-21T13:10:28.120591Z",
     "start_time": "2025-02-21T13:10:27.529410Z"
    }
   },
   "cell_type": "code",
   "source": [
    "embedding_column = f'Embedding_{embedding_models[0][0]}_Clause'\n",
    "score = compute_bijection_score(df, embedding_column)"
   ],
   "id": "c5e93853d0115e76",
   "outputs": [
    {
     "name": "stderr",
     "output_type": "stream",
     "text": [
      "C:\\Users\\Yuval\\AppData\\Local\\Temp\\ipykernel_46504\\2974320074.py:4: DeprecationWarning: string or file could not be read to its end due to unmatched data; this will raise a ValueError in the future.\n",
      "  return np.fromstring(embedding.strip('[]'), sep=' ')\n"
     ]
    }
   ],
   "execution_count": 30
  },
  {
   "metadata": {
    "ExecuteTime": {
     "end_time": "2025-02-21T13:10:29.190673Z",
     "start_time": "2025-02-21T13:10:29.184665Z"
    }
   },
   "cell_type": "code",
   "source": "score",
   "id": "13516e9e75f8b01a",
   "outputs": [
    {
     "data": {
      "text/plain": [
       "0.22206703910614525"
      ]
     },
     "execution_count": 31,
     "metadata": {},
     "output_type": "execute_result"
    }
   ],
   "execution_count": 31
  },
  {
   "metadata": {
    "ExecuteTime": {
     "end_time": "2025-02-21T13:10:33.271606Z",
     "start_time": "2025-02-21T13:10:32.675263Z"
    }
   },
   "cell_type": "code",
   "source": [
    "embedding_column = f'Embedding_{embedding_models[1][0]}_Clause'\n",
    "score = compute_bijection_score(df, embedding_column)\n",
    "score"
   ],
   "id": "52e5b5e6195c66f0",
   "outputs": [
    {
     "name": "stderr",
     "output_type": "stream",
     "text": [
      "C:\\Users\\Yuval\\AppData\\Local\\Temp\\ipykernel_46504\\2974320074.py:4: DeprecationWarning: string or file could not be read to its end due to unmatched data; this will raise a ValueError in the future.\n",
      "  return np.fromstring(embedding.strip('[]'), sep=' ')\n"
     ]
    },
    {
     "data": {
      "text/plain": [
       "0.22625698324022347"
      ]
     },
     "execution_count": 32,
     "metadata": {},
     "output_type": "execute_result"
    }
   ],
   "execution_count": 32
  },
  {
   "metadata": {
    "ExecuteTime": {
     "end_time": "2025-02-21T13:10:42.325092Z",
     "start_time": "2025-02-21T13:10:41.321363Z"
    }
   },
   "cell_type": "code",
   "source": [
    "embedding_column = f'Embedding_{embedding_models[2][0]}_Clause'\n",
    "score = compute_bijection_score(df, embedding_column)\n",
    "score"
   ],
   "id": "150b997338e0ceeb",
   "outputs": [
    {
     "data": {
      "text/plain": [
       "0.08519553072625698"
      ]
     },
     "execution_count": 33,
     "metadata": {},
     "output_type": "execute_result"
    }
   ],
   "execution_count": 33
  },
  {
   "metadata": {
    "ExecuteTime": {
     "end_time": "2025-02-21T13:11:12.764298Z",
     "start_time": "2025-02-21T13:11:12.758756Z"
    }
   },
   "cell_type": "code",
   "source": [
    "def compute_relaxed_bijection_score(df, model_column, top_k=5):\n",
    "    \"\"\"\n",
    "    Computes the Symmetry Score for a given embedding model using top-K matches.\n",
    "    :param df: DataFrame containing Document, Clause Text, and embeddings.\n",
    "    :param model_column: Column name containing the clause embeddings.\n",
    "    :param top_k: Number of top matches to consider.\n",
    "    :return: Symmetry Score (float)\n",
    "    \"\"\"\n",
    "    df = df.reset_index(drop=True)  # Ensure index alignment\n",
    "    documents = df['Document'].unique()\n",
    "    df[model_column] = df[model_column].apply(parse_embedding)  # Ensure embeddings are numeric\n",
    "    embeddings = np.vstack(df[model_column].values)\n",
    "    similarity_matrix = cosine_similarity(embeddings)\n",
    "    \n",
    "    symmetric_matches = 0\n",
    "    total_pairs = 0\n",
    "    \n",
    "    for i, row in df.iterrows():\n",
    "        doc_A = row['Document']\n",
    "        top_k_matches = {}\n",
    "        \n",
    "        for doc_B in documents:\n",
    "            if doc_B == doc_A:\n",
    "                continue\n",
    "            \n",
    "            valid_indices = df[df['Document'] == doc_B].index.to_numpy()\n",
    "            \n",
    "            if valid_indices.size == 0:\n",
    "                continue\n",
    "            \n",
    "            similarities = similarity_matrix[i, valid_indices]\n",
    "            top_k_indices = valid_indices[np.argsort(similarities)[-top_k:]]\n",
    "            top_k_matches[doc_B] = top_k_indices\n",
    "        \n",
    "        for doc_B, top_k_indices in top_k_matches.items():\n",
    "            for j in top_k_indices:\n",
    "                reverse_valid_indices = df[df['Document'] == doc_A].index.to_numpy()\n",
    "                reverse_similarities = similarity_matrix[j, reverse_valid_indices]\n",
    "                reverse_top_k_indices = reverse_valid_indices[np.argsort(reverse_similarities)[-top_k:]]\n",
    "                \n",
    "                if i in reverse_top_k_indices:\n",
    "                    symmetric_matches += 1\n",
    "                total_pairs += 1\n",
    "    \n",
    "    return symmetric_matches / total_pairs if total_pairs > 0 else 0.0"
   ],
   "id": "6008b0ace90cea8a",
   "outputs": [],
   "execution_count": 34
  },
  {
   "metadata": {},
   "cell_type": "markdown",
   "source": "### Scores computation",
   "id": "79681c8e75a87d3e"
  },
  {
   "metadata": {
    "ExecuteTime": {
     "end_time": "2025-02-21T13:11:18.720655Z",
     "start_time": "2025-02-21T13:11:17.183408Z"
    }
   },
   "cell_type": "code",
   "source": [
    "embedding_column = f'Embedding_{embedding_models[0][0]}_Clause'\n",
    "score = compute_relaxed_bijection_score(df, embedding_column, top_k=3)\n",
    "score"
   ],
   "id": "6c02e246cbdecb81",
   "outputs": [
    {
     "name": "stderr",
     "output_type": "stream",
     "text": [
      "C:\\Users\\Yuval\\AppData\\Local\\Temp\\ipykernel_46504\\2974320074.py:4: DeprecationWarning: string or file could not be read to its end due to unmatched data; this will raise a ValueError in the future.\n",
      "  return np.fromstring(embedding.strip('[]'), sep=' ')\n"
     ]
    },
    {
     "data": {
      "text/plain": [
       "0.2723463687150838"
      ]
     },
     "execution_count": 35,
     "metadata": {},
     "output_type": "execute_result"
    }
   ],
   "execution_count": 35
  },
  {
   "metadata": {
    "ExecuteTime": {
     "end_time": "2025-02-21T13:11:59.451083Z",
     "start_time": "2025-02-21T13:11:20.121554Z"
    }
   },
   "cell_type": "code",
   "source": [
    "embedding_column = f'Embedding_{embedding_models[1][0]}_Clause'\n",
    "score = compute_relaxed_bijection_score(df, embedding_column, top_k=1000)\n",
    "score"
   ],
   "id": "58a236a51ea9deb7",
   "outputs": [
    {
     "name": "stderr",
     "output_type": "stream",
     "text": [
      "C:\\Users\\Yuval\\AppData\\Local\\Temp\\ipykernel_46504\\2974320074.py:4: DeprecationWarning: string or file could not be read to its end due to unmatched data; this will raise a ValueError in the future.\n",
      "  return np.fromstring(embedding.strip('[]'), sep=' ')\n"
     ]
    },
    {
     "data": {
      "text/plain": [
       "1.0"
      ]
     },
     "execution_count": 36,
     "metadata": {},
     "output_type": "execute_result"
    }
   ],
   "execution_count": 36
  },
  {
   "metadata": {
    "ExecuteTime": {
     "end_time": "2025-02-21T13:12:10.681669Z",
     "start_time": "2025-02-21T13:12:09.095466Z"
    }
   },
   "cell_type": "code",
   "source": [
    "embedding_column = f'Embedding_{embedding_models[1][0]}_Clause'\n",
    "score = compute_relaxed_bijection_score(df, embedding_column, top_k=3)\n",
    "score"
   ],
   "id": "8d5486140f522425",
   "outputs": [
    {
     "name": "stderr",
     "output_type": "stream",
     "text": [
      "C:\\Users\\Yuval\\AppData\\Local\\Temp\\ipykernel_46504\\2974320074.py:4: DeprecationWarning: string or file could not be read to its end due to unmatched data; this will raise a ValueError in the future.\n",
      "  return np.fromstring(embedding.strip('[]'), sep=' ')\n"
     ]
    },
    {
     "data": {
      "text/plain": [
       "0.271415270018622"
      ]
     },
     "execution_count": 37,
     "metadata": {},
     "output_type": "execute_result"
    }
   ],
   "execution_count": 37
  },
  {
   "metadata": {
    "ExecuteTime": {
     "end_time": "2025-02-21T13:12:35.947607Z",
     "start_time": "2025-02-21T13:12:34.304940Z"
    }
   },
   "cell_type": "code",
   "source": [
    "embedding_column = f'Embedding_{embedding_models[2][0]}_Clause'\n",
    "score = compute_relaxed_bijection_score(df, embedding_column, top_k=3)\n",
    "score"
   ],
   "id": "65cd5b51442a42c2",
   "outputs": [
    {
     "data": {
      "text/plain": [
       "0.11312849162011174"
      ]
     },
     "execution_count": 38,
     "metadata": {},
     "output_type": "execute_result"
    }
   ],
   "execution_count": 38
  },
  {
   "metadata": {
    "ExecuteTime": {
     "end_time": "2025-02-24T22:03:22.676069Z",
     "start_time": "2025-02-24T22:03:22.673068Z"
    }
   },
   "cell_type": "code",
   "source": "",
   "id": "d6bc37b4abc36d9e",
   "outputs": [],
   "execution_count": null
  },
  {
   "metadata": {
    "ExecuteTime": {
     "end_time": "2025-02-24T22:03:22.937102Z",
     "start_time": "2025-02-24T22:03:22.934258Z"
    }
   },
   "cell_type": "code",
   "source": "",
   "id": "24769397854c1463",
   "outputs": [],
   "execution_count": null
  },
  {
   "metadata": {},
   "cell_type": "code",
   "outputs": [],
   "execution_count": null,
   "source": "",
   "id": "ac1ff02e507d0692"
  }
 ],
 "metadata": {
  "instance_type": "ml.t3.medium",
  "kernelspec": {
   "display_name": "Python 3 (ipykernel)",
   "name": "python3",
   "language": "python"
  },
  "language_info": {
   "name": ""
  }
 },
 "nbformat": 4,
 "nbformat_minor": 5
}
